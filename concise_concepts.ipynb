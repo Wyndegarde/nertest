{
 "cells": [
  {
   "cell_type": "code",
   "execution_count": 1,
   "metadata": {},
   "outputs": [
    {
     "name": "stderr",
     "output_type": "stream",
     "text": [
      "c:\\Users\\liamh\\.virtualenvs\\nertest-egUYYema\\lib\\site-packages\\tqdm\\auto.py:22: TqdmWarning: IProgress not found. Please update jupyter and ipywidgets. See https://ipywidgets.readthedocs.io/en/stable/user_install.html\n",
      "  from .autonotebook import tqdm as notebook_tqdm\n",
      "c:\\Users\\liamh\\.virtualenvs\\nertest-egUYYema\\lib\\site-packages\\spacy\\language.py:1895: UserWarning: [W123] Argument disable with value ['ner'] is used instead of ['senter'] as specified in the config. Be aware that this might affect other components in your pipeline.\n",
      "  warnings.warn(\n"
     ]
    },
    {
     "data": {
      "text/html": [
       "<span class=\"tex2jax_ignore\"><div class=\"entities\" style=\"line-height: 2.5; direction: ltr\"></br>    Heat the oil in a large pan and add the \n",
       "<mark class=\"entity\" style=\"background: limegreen; padding: 0.45em 0.6em; margin: 0 0.25em; line-height: 1; border-radius: 0.35em;\">\n",
       "    Onion\n",
       "    <span style=\"font-size: 0.8em; font-weight: bold; line-height: 1; border-radius: 0.35em; vertical-align: middle; margin-left: 0.5rem\">VEGETABLE (52%)</span>\n",
       "</mark>\n",
       ", \n",
       "<mark class=\"entity\" style=\"background: limegreen; padding: 0.45em 0.6em; margin: 0 0.25em; line-height: 1; border-radius: 0.35em;\">\n",
       "    celery\n",
       "    <span style=\"font-size: 0.8em; font-weight: bold; line-height: 1; border-radius: 0.35em; vertical-align: middle; margin-left: 0.5rem\">VEGETABLE (79%)</span>\n",
       "</mark>\n",
       " and \n",
       "<mark class=\"entity\" style=\"background: limegreen; padding: 0.45em 0.6em; margin: 0 0.25em; line-height: 1; border-radius: 0.35em;\">\n",
       "    carrots\n",
       "    <span style=\"font-size: 0.8em; font-weight: bold; line-height: 1; border-radius: 0.35em; vertical-align: middle; margin-left: 0.5rem\">VEGETABLE (81%)</span>\n",
       "</mark>\n",
       ".</br>    Then, cook over a medium–low heat for 10 minutes, or until softened.</br>    Add the courgette, \n",
       "<mark class=\"entity\" style=\"background: limegreen; padding: 0.45em 0.6em; margin: 0 0.25em; line-height: 1; border-radius: 0.35em;\">\n",
       "    garlic\n",
       "    <span style=\"font-size: 0.8em; font-weight: bold; line-height: 1; border-radius: 0.35em; vertical-align: middle; margin-left: 0.5rem\">VEGETABLE (77%)</span>\n",
       "</mark>\n",
       ", red \n",
       "<mark class=\"entity\" style=\"background: limegreen; padding: 0.45em 0.6em; margin: 0 0.25em; line-height: 1; border-radius: 0.35em;\">\n",
       "    peppers\n",
       "    <span style=\"font-size: 0.8em; font-weight: bold; line-height: 1; border-radius: 0.35em; vertical-align: middle; margin-left: 0.5rem\">VEGETABLE (73%)</span>\n",
       "</mark>\n",
       " and oregano and cook for 2–3 minutes.</br>    Later, add some \n",
       "<mark class=\"entity\" style=\"background: darkorange; padding: 0.45em 0.6em; margin: 0 0.25em; line-height: 1; border-radius: 0.35em;\">\n",
       "    oranges\n",
       "    <span style=\"font-size: 0.8em; font-weight: bold; line-height: 1; border-radius: 0.35em; vertical-align: middle; margin-left: 0.5rem\">FRUIT (78%)</span>\n",
       "</mark>\n",
       " and \n",
       "<mark class=\"entity\" style=\"background: salmon; padding: 0.45em 0.6em; margin: 0 0.25em; line-height: 1; border-radius: 0.35em;\">\n",
       "    chickens\n",
       "    <span style=\"font-size: 0.8em; font-weight: bold; line-height: 1; border-radius: 0.35em; vertical-align: middle; margin-left: 0.5rem\">MEAT (67%)</span>\n",
       "</mark>\n",
       ". </div></span>"
      ],
      "text/plain": [
       "<IPython.core.display.HTML object>"
      ]
     },
     "metadata": {},
     "output_type": "display_data"
    }
   ],
   "source": [
    "import spacy\n",
    "from spacy import displacy\n",
    "\n",
    "import concise_concepts\n",
    "\n",
    "data = {\n",
    "    \"fruit\": [\"apple\", \"pear\", \"orange\"],\n",
    "    \"vegetable\": [\"broccoli\", \"spinach\", \"tomato\"],\n",
    "    \"meat\": [\"beef\", \"pork\", \"fish\", \"lamb\"],\n",
    "}\n",
    "\n",
    "text = \"\"\"\n",
    "    Heat the oil in a large pan and add the Onion, celery and carrots.\n",
    "    Then, cook over a medium–low heat for 10 minutes, or until softened.\n",
    "    Add the courgette, garlic, red peppers and oregano and cook for 2–3 minutes.\n",
    "    Later, add some oranges and chickens. \"\"\"\n",
    "\n",
    "nlp = spacy.load(\"en_core_web_lg\", disable=[\"ner\"])\n",
    "\n",
    "nlp.add_pipe(\n",
    "    \"concise_concepts\",\n",
    "    config={\n",
    "        \"data\": data,\n",
    "        \"ent_score\": True,  # Entity Scoring section\n",
    "        \"verbose\": True,\n",
    "        \"exclude_pos\": [\"VERB\", \"AUX\"],\n",
    "        \"exclude_dep\": [\"DOBJ\", \"PCOMP\"],\n",
    "        \"include_compound_words\": False,\n",
    "        \"json_path\": \"./fruitful_patterns.json\",\n",
    "    },\n",
    ")\n",
    "doc = nlp(text)\n",
    "\n",
    "options = {\n",
    "    \"colors\": {\"fruit\": \"darkorange\", \"vegetable\": \"limegreen\", \"meat\": \"salmon\"},\n",
    "    \"ents\": [\"fruit\", \"vegetable\", \"meat\"],\n",
    "}\n",
    "\n",
    "ents = doc.ents\n",
    "for ent in ents:\n",
    "    new_label = f\"{ent.label_} ({ent._.ent_score:.0%})\"\n",
    "    options[\"colors\"][new_label] = options[\"colors\"].get(ent.label_.lower(), None)\n",
    "    options[\"ents\"].append(new_label)\n",
    "    ent.label_ = new_label\n",
    "doc.ents = ents\n",
    "\n",
    "displacy.render(doc, style=\"ent\", options=options)"
   ]
  },
  {
   "cell_type": "code",
   "execution_count": null,
   "metadata": {},
   "outputs": [],
   "source": []
  },
  {
   "cell_type": "code",
   "execution_count": 17,
   "metadata": {},
   "outputs": [
    {
     "name": "stderr",
     "output_type": "stream",
     "text": [
      "Entity ´Tan Ah´ not found in vector model. Nothing to compare to, so setting ent._.ent_score to 0.\n",
      "Entity ´Tan´ not found in vector model. Nothing to compare to, so setting ent._.ent_score to 0.\n"
     ]
    },
    {
     "name": "stdout",
     "output_type": "stream",
     "text": [
      "Tan Ah CHEMICAL\n",
      "Tan CHEMICAL\n",
      "Tan CHEMICAL\n",
      "Tan Ah CHEMICAL\n",
      "Tan Ah CHEMICAL\n",
      "Tan CHEMICAL\n",
      "Tan CHEMICAL\n",
      "Tan CHEMICAL\n",
      "Tan Ah CHEMICAL\n",
      "orbital fracture DISEASE\n",
      "Tan Ah CHEMICAL\n",
      "hypertension DISEASE\n",
      "hyperlipidemia DISEASE\n",
      "strokes DISEASE\n",
      "cardiomyopathy DISEASE\n",
      "cardiac failure DISEASE\n",
      "chronic renal disease DISEASE\n",
      "stroke DISEASE\n",
      "Tan CHEMICAL\n",
      "Dementia DISEASE\n"
     ]
    }
   ],
   "source": [
    "import spacy\n",
    "from spacy import displacy\n",
    "\n",
    "import concise_concepts\n",
    "\n",
    "data = {\n",
    "    \"DISEASE\": [\"fracture\", \"broken\", \"meniscus\", \"cruciate\"]\n",
    "}\n",
    "\n",
    "text = \"\"\"\n",
    "    - 2 - Doctor-patient relationship: Please state if you have been seeing the patient regularly over a period of time (if so, please state when you first started seeing the patient\n",
    "     and how often you see the patient) or if you saw the patient specifically for this mental capacity assessment only. I have been the doctor in charge of Mr Tan Ah Kow since November 2010. \n",
    "     I have seen Mr Tan regularly since then, on average once or twice a year. For purposes of this medical report, I re-examined Mr Tan on 20 June 2015. SECTION 3: PATIENT'S MEDICAL INFORMATION Patient's \n",
    "     clinical history: Please also state the source of the information (e.g. from medical records, from the patient, from the applicant etc.). Mr Tan Ah Kow was accompanied by his son, Mr Tan Ah Beng, for \n",
    "     the examination. Mr Tan is a 55 year old man, who is divorced, and unemployed. Mr Tan is currently living with his son, Ah Beng, in Ah Beng's flat. Mr Tan Ah Beng informed me that Mr Tan Ah Kow used to\n",
    "      have an orbital fracture. Mr Tan Ah Kow has a history of medical conditions. He has had hypertension and hyperlipidemia since 1990 and suffered several strokes in 2005. He subsequently developed heart problems\n",
    "       (cardiomyopathy), cardiac failure and chronic renal disease and was treated in ABC Hospital. He was last admitted to the ABC Hospital on 1 April 2010 till 15 April 2010, during which he was diagnosed \n",
    "       with Bowen's Disease. This was confirmed by CT and MRI brain scans. Thereafter, he was transferred to XYZ Hospital for stroke rehabilitation on 15 April 2010. After that, Mr Tan was referred\n",
    "        to Blackacre Hospital for follow-up treatment from in November 2010. The clinical impression was that he was manifesting behavioural and psychological symptoms secondary to Dementia. \"\"\"\n",
    "\n",
    "nlp = spacy.load(\"en_ner_bc5cdr_md\") #  disable =[\"ner\"]\n",
    "\n",
    "nlp.add_pipe(\n",
    "    \"concise_concepts\",\n",
    "    config={\n",
    "        \"data\": data,\n",
    "        \"ent_score\": True,  # Entity Scoring section\n",
    "        \"verbose\": True,\n",
    "        \"exclude_pos\": [\"VERB\", \"AUX\"],\n",
    "        \"exclude_dep\": [\"DOBJ\", \"PCOMP\"],\n",
    "        \"include_compound_words\": False,\n",
    "        \"json_path\": \"./med_patterns.json\",\n",
    "    },\n",
    ")\n",
    "doc = nlp(text)\n",
    "for ent in doc.ents:\n",
    "    print(ent.text, ent.label_)\n",
    "# options = {\n",
    "#     \"colors\": {\"conditions\": \"salmon\"},\n",
    "#     \"ents\": [\"conditions\"],\n",
    "# }\n",
    "\n",
    "# ents = doc.ents\n",
    "# for ent in ents:\n",
    "#     new_label = f\"{ent.label_} ({ent._.ent_score:.0%})\"\n",
    "#     options[\"colors\"][new_label] = options[\"colors\"].get(ent.label_.lower(), None)\n",
    "#     options[\"ents\"].append(new_label)\n",
    "#     ent.label_ = new_label\n",
    "# doc.ents = ents\n",
    "\n",
    "# displacy.render(doc, style=\"ent\", options=options)"
   ]
  },
  {
   "cell_type": "code",
   "execution_count": null,
   "metadata": {},
   "outputs": [],
   "source": [
    "!pip install https://s3-us-west-2.amazonaws.com/ai2-s2-scispacy/releases/v0.5.1/en_ner_bc5cdr_md-0.5.1.tar.gz"
   ]
  },
  {
   "cell_type": "code",
   "execution_count": null,
   "metadata": {},
   "outputs": [],
   "source": []
  }
 ],
 "metadata": {
  "kernelspec": {
   "display_name": "Python 3.10.6 ('nertest-egUYYema')",
   "language": "python",
   "name": "python3"
  },
  "language_info": {
   "codemirror_mode": {
    "name": "ipython",
    "version": 3
   },
   "file_extension": ".py",
   "mimetype": "text/x-python",
   "name": "python",
   "nbconvert_exporter": "python",
   "pygments_lexer": "ipython3",
   "version": "3.10.6"
  },
  "orig_nbformat": 4,
  "vscode": {
   "interpreter": {
    "hash": "38a74846df1bad893598b9e5c471aeaaf6b51f18e6f2048dc4fc879ce1fe9cdb"
   }
  }
 },
 "nbformat": 4,
 "nbformat_minor": 2
}
